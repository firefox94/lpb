{
 "cells": [
  {
   "cell_type": "code",
   "execution_count": null,
   "id": "372aac9c",
   "metadata": {},
   "outputs": [],
   "source": [
    "import pytesseract\n",
    "print(pytesseract.get_languages(config=''))"
   ]
  },
  {
   "cell_type": "code",
   "execution_count": null,
   "id": "dc221d5c",
   "metadata": {},
   "outputs": [],
   "source": [
    "import pytesseract\n",
    "from pdf2image import convert_from_path\n",
    "from docx import Document\n",
    "\n",
    "# 🔧 Khai báo đường dẫn đến tesseract nếu không tự động nhận\n",
    "pytesseract.pytesseract.tesseract_cmd = r\"C:\\Users\\hanbv\\AppData\\Local\\Programs\\Tesseract-OCR\\tesseract.exe\"\n",
    "\n",
    "# 📥 Đọc ảnh từ PDF scan (nhớ dùng raw string cho đường dẫn)\n",
    "pdf_path = r\"D:\\convert.pdf\"\n",
    "poppler_path = r\"D:\\poppler-24.08.0\\Library\\bin\"\n",
    "\n",
    "# Chuyển PDF thành danh sách ảnh (mỗi trang là 1 ảnh)\n",
    "pages = convert_from_path(pdf_path, poppler_path=poppler_path)\n",
    "\n",
    "# 📄 Tạo file Word mới\n",
    "doc = Document()\n",
    "\n",
    "# 🔁 OCR từng trang\n",
    "for page_num, page in enumerate(pages):\n",
    "    text = pytesseract.image_to_string(page, lang='vie')\n",
    "    doc.add_paragraph(f'--- Page {page_num + 1} ---')\n",
    "    doc.add_paragraph(text if text.strip() else \"[No text recognized]\")\n",
    "    doc.add_page_break()\n",
    "\n",
    "# 💾 Lưu file Word kết quả\n",
    "output_path = r\"D:\\output_from_convert.docx\"\n",
    "doc.save(output_path)\n",
    "\n",
    "print(f\"OCR hoàn tất! File Word đã được lưu tại: {output_path}\")"
   ]
  }
 ],
 "metadata": {
  "kernelspec": {
   "display_name": "fox_env",
   "language": "python",
   "name": "python3"
  },
  "language_info": {
   "name": "python",
   "version": "3.12.8"
  }
 },
 "nbformat": 4,
 "nbformat_minor": 5
}
